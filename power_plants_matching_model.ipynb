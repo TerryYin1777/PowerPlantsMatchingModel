{
 "cells": [
  {
   "cell_type": "markdown",
   "metadata": {},
   "source": [
    "### Import Packages"
   ]
  },
  {
   "cell_type": "code",
   "execution_count": 4,
   "metadata": {},
   "outputs": [],
   "source": [
    "import pandas as pd\n",
    "import json\n",
    "import numpy as np\n",
    "import sys\n",
    "from fuzzywuzzy import fuzz\n",
    "from fuzzywuzzy import process\n",
    "import pickle"
   ]
  },
  {
   "cell_type": "markdown",
   "metadata": {},
   "source": [
    "### Load Data"
   ]
  },
  {
   "cell_type": "code",
   "execution_count": 13,
   "metadata": {
    "scrolled": true
   },
   "outputs": [],
   "source": [
    "PE_rus = pd.read_csv('PowerExplorer -- RUS _ Russia.csv')"
   ]
  },
  {
   "cell_type": "code",
   "execution_count": 14,
   "metadata": {},
   "outputs": [],
   "source": [
    "NewData = pd.read_csv('Rus_NewData_Translated.csv',index_col=0)"
   ]
  },
  {
   "cell_type": "markdown",
   "metadata": {},
   "source": [
    "### Build the Matching Function"
   ]
  },
  {
   "cell_type": "code",
   "execution_count": 15,
   "metadata": {},
   "outputs": [],
   "source": [
    "# Preprocess NewData\n",
    "NewData['latitude'] = NewData['latitude'].astype(float)\n",
    "NewData['longitude'] = NewData['longitude'].astype(float)\n",
    "NewData['fuel_all_en'] = NewData[['fuel1_en','fuel2_en','fuel3_en','fuel4_en']].fillna('').apply(lambda x: ';'.join(x),axis = 1)\n",
    "NewData = NewData.loc[(NewData['capacity_mw']!=0) | (NewData['name_en']=='Zheleznogorsk TPP'),:]"
   ]
  },
  {
   "cell_type": "code",
   "execution_count": 16,
   "metadata": {},
   "outputs": [],
   "source": [
    "# Preprocess Database\n",
    "PE_rus['Commissioning Date'] = PE_rus['Commissioning Date'].str.replace('2/27/17','2017')\n",
    "PE_rus['Commissioning Date'] = [float(y[0])  if type(y)==list else np.NaN for y in PE_rus['Commissioning Date'].str.findall(r'\\d{4}')]\n",
    "PE_rus['fuel_all'] = PE_rus[['Fuel','Secondary Fuel']].fillna('').apply(lambda x: ';'.join(x),axis = 1)"
   ]
  },
  {
   "cell_type": "code",
   "execution_count": 17,
   "metadata": {},
   "outputs": [],
   "source": [
    "# Help Functions\n",
    "def score_string_similarity(string1,string2):\n",
    "    return fuzz.token_set_ratio(string1,string2)"
   ]
  },
  {
   "cell_type": "code",
   "execution_count": 18,
   "metadata": {},
   "outputs": [],
   "source": [
    "# Help Functions\n",
    "def score_capacity(num1,num2):\n",
    "    gap = np.abs(num1-num2)\n",
    "    return gap/num1+gap/num2"
   ]
  },
  {
   "cell_type": "code",
   "execution_count": 19,
   "metadata": {},
   "outputs": [],
   "source": [
    "# Help Functions\n",
    "def score_euclidean_distance(lat1,lat2,lon1,lon2):  \n",
    "    return np.sqrt((lat1-lat2)**2 + (lon1-lon2)**2)"
   ]
  },
  {
   "cell_type": "code",
   "execution_count": 20,
   "metadata": {},
   "outputs": [],
   "source": [
    "def scoring_for_match(newdata_index,database_index):\n",
    "    \n",
    "    row_newdata = NewData.loc[newdata_index]\n",
    "    row_database = PE_rus.loc[database_index]\n",
    "    distance_score = score_euclidean_distance(row_newdata['latitude'],row_database['Latitude'],row_newdata['longitude'],row_database['Longitude'])\n",
    "    name_similarity_score = score_string_similarity(row_newdata['name_en'],row_database['Name'])\n",
    "    fuel_similarity_score = score_string_similarity(row_newdata['fuel_all_en'],row_database['fuel_all'])\n",
    "    owner_similarity_score = score_string_similarity(row_newdata['owner_en'],row_database['Owner'])\n",
    "    capacity_closeness_score = score_capacity(row_newdata['capacity_mw'],row_database['Capacity (MW)'])\n",
    "    commissioning_year_score = np.abs(row_newdata['commissioning_year'] - row_database['Commissioning Date'])\n",
    "    missing_fuel_score = 0\n",
    "    if row_newdata['fuel_all_en']==';;;' or row_database['fuel_all']==';;;':\n",
    "        missing_fuel_score = 1\n",
    "    \n",
    "    match_dict = {'new_index':newdata_index,\n",
    "                  'old_index':database_index,\n",
    "                  'distance_score':distance_score,\n",
    "                  'name_similarity_score':name_similarity_score,\n",
    "                  'fuel_similarity_score':fuel_similarity_score,\n",
    "                  'capacity_closeness_score':capacity_closeness_score,\n",
    "                  'owner_similarity_score':owner_similarity_score,\n",
    "                  'commissioning_year_score':commissioning_year_score,\n",
    "                  'missing_fuel_score':missing_fuel_score}\n",
    "    \n",
    "    return match_dict\n",
    "    "
   ]
  },
  {
   "cell_type": "code",
   "execution_count": 21,
   "metadata": {},
   "outputs": [],
   "source": [
    "def scoring_for_single_example(example_id):\n",
    "    scoring_df = pd.DataFrame(columns = ['capacity_closeness_score',\n",
    "                                         'distance_score',\n",
    "                                         'fuel_similarity_score',\n",
    "                                         'name_similarity_score',\n",
    "                                         'owner_similarity_score',\n",
    "                                         'commissioning_year_score',\n",
    "                                         'missing_fuel_score',\n",
    "                                         'new_index',\n",
    "                                         'old_index'])\n",
    "    for i in range(PE_rus.shape[0]):\n",
    "        scoring_df = scoring_df.append(scoring_for_match(example_id,i),ignore_index=True)\n",
    "    return scoring_df"
   ]
  },
  {
   "cell_type": "code",
   "execution_count": 22,
   "metadata": {},
   "outputs": [],
   "source": [
    "def result_sorting(column):  \n",
    "    if column == 'name':\n",
    "        return scoring_df.sort_values(by = ['name_similarity_score','distance_score'], ascending = False).head()\n",
    "    if column == 'distance':\n",
    "        return scoring_df.sort_values(by = 'distance_score', ascending = True).head()\n",
    "    if column == 'fuel':\n",
    "        return scoring_df.sort_values(by = 'fuel_similarity_score', ascending = False).head()\n",
    "    if column == 'capacity':\n",
    "        return scoring_df.sort_values(by = 'capacity_closeness_score', ascending = True).head()\n",
    "    if column == 'owner':\n",
    "        return scoring_df.sort_values(by = 'owner_similarity_score', ascending = False).head()\n",
    "    if column == 'commissioning_year':\n",
    "        return scoring_df.sort_values(by = 'commissioning_year_score', ascending = True).head()"
   ]
  },
  {
   "cell_type": "code",
   "execution_count": 23,
   "metadata": {},
   "outputs": [],
   "source": [
    "def manual_check(newdata_index,database_index):\n",
    "    print('NewData:\\n')\n",
    "    print(NewData.loc[newdata_index,['name_en','fuel_all_en','capacity_mw','latitude','longitude','owner_en','commissioning_year']])\n",
    "    print('\\nDataBase:\\n')\n",
    "    print(PE_rus.loc[database_index,['Name','fuel_all','Capacity (MW)','Latitude','Longitude','Owner','Commissioning Date']])"
   ]
  },
  {
   "cell_type": "code",
   "execution_count": 24,
   "metadata": {},
   "outputs": [],
   "source": [
    "def update_matching_index(df, new_index, matched = False, old_index = None):\n",
    "    if matched and old_index != None:\n",
    "        row = {'new_index':new_index, 'found_match':True, 'old_index':old_index}\n",
    "    elif matched and old_index == None:\n",
    "        print('Provide the old index if there is a match')\n",
    "        return\n",
    "    else:\n",
    "        row = {'new_index':new_index, 'found_match':False, 'old_index':'NA'}\n",
    "    df = df.append(row,ignore_index=True)\n",
    "    return df"
   ]
  },
  {
   "cell_type": "markdown",
   "metadata": {},
   "source": [
    "### Develop the Matching Table by Manually Check"
   ]
  },
  {
   "cell_type": "code",
   "execution_count": 25,
   "metadata": {},
   "outputs": [],
   "source": [
    "# Initialize an empty data frame to store the manual check results\n",
    "matching_index_df = pd.DataFrame(columns = ['new_index','found_match','old_index'])"
   ]
  },
  {
   "cell_type": "code",
   "execution_count": 26,
   "metadata": {},
   "outputs": [],
   "source": [
    "#Get the scores for a single data point\n",
    "scoring_df = scoring_for_single_example(1)"
   ]
  },
  {
   "cell_type": "code",
   "execution_count": 27,
   "metadata": {},
   "outputs": [
    {
     "data": {
      "text/html": [
       "<div>\n",
       "<style scoped>\n",
       "    .dataframe tbody tr th:only-of-type {\n",
       "        vertical-align: middle;\n",
       "    }\n",
       "\n",
       "    .dataframe tbody tr th {\n",
       "        vertical-align: top;\n",
       "    }\n",
       "\n",
       "    .dataframe thead th {\n",
       "        text-align: right;\n",
       "    }\n",
       "</style>\n",
       "<table border=\"1\" class=\"dataframe\">\n",
       "  <thead>\n",
       "    <tr style=\"text-align: right;\">\n",
       "      <th></th>\n",
       "      <th>capacity_closeness_score</th>\n",
       "      <th>distance_score</th>\n",
       "      <th>fuel_similarity_score</th>\n",
       "      <th>name_similarity_score</th>\n",
       "      <th>owner_similarity_score</th>\n",
       "      <th>commissioning_year_score</th>\n",
       "      <th>missing_fuel_score</th>\n",
       "      <th>new_index</th>\n",
       "      <th>old_index</th>\n",
       "    </tr>\n",
       "  </thead>\n",
       "  <tbody>\n",
       "    <tr>\n",
       "      <th>135</th>\n",
       "      <td>9.552172</td>\n",
       "      <td>11.679101</td>\n",
       "      <td>100.0</td>\n",
       "      <td>53.0</td>\n",
       "      <td>29.0</td>\n",
       "      <td>14.0</td>\n",
       "      <td>0.0</td>\n",
       "      <td>1.0</td>\n",
       "      <td>135.0</td>\n",
       "    </tr>\n",
       "    <tr>\n",
       "      <th>122</th>\n",
       "      <td>0.144427</td>\n",
       "      <td>0.004390</td>\n",
       "      <td>100.0</td>\n",
       "      <td>51.0</td>\n",
       "      <td>78.0</td>\n",
       "      <td>0.0</td>\n",
       "      <td>0.0</td>\n",
       "      <td>1.0</td>\n",
       "      <td>122.0</td>\n",
       "    </tr>\n",
       "    <tr>\n",
       "      <th>70</th>\n",
       "      <td>1.846423</td>\n",
       "      <td>48.849688</td>\n",
       "      <td>27.0</td>\n",
       "      <td>49.0</td>\n",
       "      <td>52.0</td>\n",
       "      <td>44.0</td>\n",
       "      <td>0.0</td>\n",
       "      <td>1.0</td>\n",
       "      <td>70.0</td>\n",
       "    </tr>\n",
       "    <tr>\n",
       "      <th>99</th>\n",
       "      <td>2.154023</td>\n",
       "      <td>0.838054</td>\n",
       "      <td>100.0</td>\n",
       "      <td>48.0</td>\n",
       "      <td>33.0</td>\n",
       "      <td>NaN</td>\n",
       "      <td>0.0</td>\n",
       "      <td>1.0</td>\n",
       "      <td>99.0</td>\n",
       "    </tr>\n",
       "    <tr>\n",
       "      <th>119</th>\n",
       "      <td>1.636503</td>\n",
       "      <td>51.563221</td>\n",
       "      <td>27.0</td>\n",
       "      <td>47.0</td>\n",
       "      <td>52.0</td>\n",
       "      <td>47.0</td>\n",
       "      <td>0.0</td>\n",
       "      <td>1.0</td>\n",
       "      <td>119.0</td>\n",
       "    </tr>\n",
       "  </tbody>\n",
       "</table>\n",
       "</div>"
      ],
      "text/plain": [
       "     capacity_closeness_score  distance_score  fuel_similarity_score  \\\n",
       "135                  9.552172       11.679101                  100.0   \n",
       "122                  0.144427        0.004390                  100.0   \n",
       "70                   1.846423       48.849688                   27.0   \n",
       "99                   2.154023        0.838054                  100.0   \n",
       "119                  1.636503       51.563221                   27.0   \n",
       "\n",
       "     name_similarity_score  owner_similarity_score  commissioning_year_score  \\\n",
       "135                   53.0                    29.0                      14.0   \n",
       "122                   51.0                    78.0                       0.0   \n",
       "70                    49.0                    52.0                      44.0   \n",
       "99                    48.0                    33.0                       NaN   \n",
       "119                   47.0                    52.0                      47.0   \n",
       "\n",
       "     missing_fuel_score  new_index  old_index  \n",
       "135                 0.0        1.0      135.0  \n",
       "122                 0.0        1.0      122.0  \n",
       "70                  0.0        1.0       70.0  \n",
       "99                  0.0        1.0       99.0  \n",
       "119                 0.0        1.0      119.0  "
      ]
     },
     "execution_count": 27,
     "metadata": {},
     "output_type": "execute_result"
    }
   ],
   "source": [
    "#Sort out the matches with most similar names\n",
    "result_sorting('name')"
   ]
  },
  {
   "cell_type": "code",
   "execution_count": 28,
   "metadata": {},
   "outputs": [
    {
     "data": {
      "text/html": [
       "<div>\n",
       "<style scoped>\n",
       "    .dataframe tbody tr th:only-of-type {\n",
       "        vertical-align: middle;\n",
       "    }\n",
       "\n",
       "    .dataframe tbody tr th {\n",
       "        vertical-align: top;\n",
       "    }\n",
       "\n",
       "    .dataframe thead th {\n",
       "        text-align: right;\n",
       "    }\n",
       "</style>\n",
       "<table border=\"1\" class=\"dataframe\">\n",
       "  <thead>\n",
       "    <tr style=\"text-align: right;\">\n",
       "      <th></th>\n",
       "      <th>capacity_closeness_score</th>\n",
       "      <th>distance_score</th>\n",
       "      <th>fuel_similarity_score</th>\n",
       "      <th>name_similarity_score</th>\n",
       "      <th>owner_similarity_score</th>\n",
       "      <th>commissioning_year_score</th>\n",
       "      <th>missing_fuel_score</th>\n",
       "      <th>new_index</th>\n",
       "      <th>old_index</th>\n",
       "    </tr>\n",
       "  </thead>\n",
       "  <tbody>\n",
       "    <tr>\n",
       "      <th>122</th>\n",
       "      <td>0.144427</td>\n",
       "      <td>0.004390</td>\n",
       "      <td>100.0</td>\n",
       "      <td>51.0</td>\n",
       "      <td>78.0</td>\n",
       "      <td>0.0</td>\n",
       "      <td>0.0</td>\n",
       "      <td>1.0</td>\n",
       "      <td>122.0</td>\n",
       "    </tr>\n",
       "    <tr>\n",
       "      <th>99</th>\n",
       "      <td>2.154023</td>\n",
       "      <td>0.838054</td>\n",
       "      <td>100.0</td>\n",
       "      <td>48.0</td>\n",
       "      <td>33.0</td>\n",
       "      <td>NaN</td>\n",
       "      <td>0.0</td>\n",
       "      <td>1.0</td>\n",
       "      <td>99.0</td>\n",
       "    </tr>\n",
       "    <tr>\n",
       "      <th>241</th>\n",
       "      <td>1.546518</td>\n",
       "      <td>0.842028</td>\n",
       "      <td>12.0</td>\n",
       "      <td>34.0</td>\n",
       "      <td>27.0</td>\n",
       "      <td>NaN</td>\n",
       "      <td>0.0</td>\n",
       "      <td>1.0</td>\n",
       "      <td>241.0</td>\n",
       "    </tr>\n",
       "    <tr>\n",
       "      <th>87</th>\n",
       "      <td>1.774490</td>\n",
       "      <td>0.997013</td>\n",
       "      <td>27.0</td>\n",
       "      <td>6.0</td>\n",
       "      <td>78.0</td>\n",
       "      <td>52.0</td>\n",
       "      <td>0.0</td>\n",
       "      <td>1.0</td>\n",
       "      <td>87.0</td>\n",
       "    </tr>\n",
       "    <tr>\n",
       "      <th>71</th>\n",
       "      <td>1.224577</td>\n",
       "      <td>1.060497</td>\n",
       "      <td>100.0</td>\n",
       "      <td>29.0</td>\n",
       "      <td>78.0</td>\n",
       "      <td>22.0</td>\n",
       "      <td>0.0</td>\n",
       "      <td>1.0</td>\n",
       "      <td>71.0</td>\n",
       "    </tr>\n",
       "  </tbody>\n",
       "</table>\n",
       "</div>"
      ],
      "text/plain": [
       "     capacity_closeness_score  distance_score  fuel_similarity_score  \\\n",
       "122                  0.144427        0.004390                  100.0   \n",
       "99                   2.154023        0.838054                  100.0   \n",
       "241                  1.546518        0.842028                   12.0   \n",
       "87                   1.774490        0.997013                   27.0   \n",
       "71                   1.224577        1.060497                  100.0   \n",
       "\n",
       "     name_similarity_score  owner_similarity_score  commissioning_year_score  \\\n",
       "122                   51.0                    78.0                       0.0   \n",
       "99                    48.0                    33.0                       NaN   \n",
       "241                   34.0                    27.0                       NaN   \n",
       "87                     6.0                    78.0                      52.0   \n",
       "71                    29.0                    78.0                      22.0   \n",
       "\n",
       "     missing_fuel_score  new_index  old_index  \n",
       "122                 0.0        1.0      122.0  \n",
       "99                  0.0        1.0       99.0  \n",
       "241                 0.0        1.0      241.0  \n",
       "87                  0.0        1.0       87.0  \n",
       "71                  0.0        1.0       71.0  "
      ]
     },
     "execution_count": 28,
     "metadata": {},
     "output_type": "execute_result"
    }
   ],
   "source": [
    "#Sort out the matches with closest distance\n",
    "result_sorting('distance')"
   ]
  },
  {
   "cell_type": "code",
   "execution_count": 29,
   "metadata": {},
   "outputs": [
    {
     "data": {
      "text/html": [
       "<div>\n",
       "<style scoped>\n",
       "    .dataframe tbody tr th:only-of-type {\n",
       "        vertical-align: middle;\n",
       "    }\n",
       "\n",
       "    .dataframe tbody tr th {\n",
       "        vertical-align: top;\n",
       "    }\n",
       "\n",
       "    .dataframe thead th {\n",
       "        text-align: right;\n",
       "    }\n",
       "</style>\n",
       "<table border=\"1\" class=\"dataframe\">\n",
       "  <thead>\n",
       "    <tr style=\"text-align: right;\">\n",
       "      <th></th>\n",
       "      <th>capacity_closeness_score</th>\n",
       "      <th>distance_score</th>\n",
       "      <th>fuel_similarity_score</th>\n",
       "      <th>name_similarity_score</th>\n",
       "      <th>owner_similarity_score</th>\n",
       "      <th>commissioning_year_score</th>\n",
       "      <th>missing_fuel_score</th>\n",
       "      <th>new_index</th>\n",
       "      <th>old_index</th>\n",
       "    </tr>\n",
       "  </thead>\n",
       "  <tbody>\n",
       "    <tr>\n",
       "      <th>122</th>\n",
       "      <td>0.144427</td>\n",
       "      <td>0.004390</td>\n",
       "      <td>100.0</td>\n",
       "      <td>51.0</td>\n",
       "      <td>78.0</td>\n",
       "      <td>0.0</td>\n",
       "      <td>0.0</td>\n",
       "      <td>1.0</td>\n",
       "      <td>122.0</td>\n",
       "    </tr>\n",
       "    <tr>\n",
       "      <th>110</th>\n",
       "      <td>0.243318</td>\n",
       "      <td>77.080918</td>\n",
       "      <td>27.0</td>\n",
       "      <td>31.0</td>\n",
       "      <td>35.0</td>\n",
       "      <td>8.0</td>\n",
       "      <td>0.0</td>\n",
       "      <td>1.0</td>\n",
       "      <td>110.0</td>\n",
       "    </tr>\n",
       "    <tr>\n",
       "      <th>135</th>\n",
       "      <td>9.552172</td>\n",
       "      <td>11.679101</td>\n",
       "      <td>100.0</td>\n",
       "      <td>53.0</td>\n",
       "      <td>29.0</td>\n",
       "      <td>14.0</td>\n",
       "      <td>0.0</td>\n",
       "      <td>1.0</td>\n",
       "      <td>135.0</td>\n",
       "    </tr>\n",
       "    <tr>\n",
       "      <th>174</th>\n",
       "      <td>8.058314</td>\n",
       "      <td>8.437779</td>\n",
       "      <td>100.0</td>\n",
       "      <td>23.0</td>\n",
       "      <td>29.0</td>\n",
       "      <td>16.0</td>\n",
       "      <td>0.0</td>\n",
       "      <td>1.0</td>\n",
       "      <td>174.0</td>\n",
       "    </tr>\n",
       "    <tr>\n",
       "      <th>75</th>\n",
       "      <td>0.053611</td>\n",
       "      <td>1.097956</td>\n",
       "      <td>100.0</td>\n",
       "      <td>6.0</td>\n",
       "      <td>78.0</td>\n",
       "      <td>16.0</td>\n",
       "      <td>0.0</td>\n",
       "      <td>1.0</td>\n",
       "      <td>75.0</td>\n",
       "    </tr>\n",
       "  </tbody>\n",
       "</table>\n",
       "</div>"
      ],
      "text/plain": [
       "     capacity_closeness_score  distance_score  fuel_similarity_score  \\\n",
       "122                  0.144427        0.004390                  100.0   \n",
       "110                  0.243318       77.080918                   27.0   \n",
       "135                  9.552172       11.679101                  100.0   \n",
       "174                  8.058314        8.437779                  100.0   \n",
       "75                   0.053611        1.097956                  100.0   \n",
       "\n",
       "     name_similarity_score  owner_similarity_score  commissioning_year_score  \\\n",
       "122                   51.0                    78.0                       0.0   \n",
       "110                   31.0                    35.0                       8.0   \n",
       "135                   53.0                    29.0                      14.0   \n",
       "174                   23.0                    29.0                      16.0   \n",
       "75                     6.0                    78.0                      16.0   \n",
       "\n",
       "     missing_fuel_score  new_index  old_index  \n",
       "122                 0.0        1.0      122.0  \n",
       "110                 0.0        1.0      110.0  \n",
       "135                 0.0        1.0      135.0  \n",
       "174                 0.0        1.0      174.0  \n",
       "75                  0.0        1.0       75.0  "
      ]
     },
     "execution_count": 29,
     "metadata": {},
     "output_type": "execute_result"
    }
   ],
   "source": [
    "#Sort out the matches with closest commissioning year\n",
    "result_sorting('commissioning_year')"
   ]
  },
  {
   "cell_type": "code",
   "execution_count": 30,
   "metadata": {},
   "outputs": [
    {
     "data": {
      "text/html": [
       "<div>\n",
       "<style scoped>\n",
       "    .dataframe tbody tr th:only-of-type {\n",
       "        vertical-align: middle;\n",
       "    }\n",
       "\n",
       "    .dataframe tbody tr th {\n",
       "        vertical-align: top;\n",
       "    }\n",
       "\n",
       "    .dataframe thead th {\n",
       "        text-align: right;\n",
       "    }\n",
       "</style>\n",
       "<table border=\"1\" class=\"dataframe\">\n",
       "  <thead>\n",
       "    <tr style=\"text-align: right;\">\n",
       "      <th></th>\n",
       "      <th>capacity_closeness_score</th>\n",
       "      <th>distance_score</th>\n",
       "      <th>fuel_similarity_score</th>\n",
       "      <th>name_similarity_score</th>\n",
       "      <th>owner_similarity_score</th>\n",
       "      <th>commissioning_year_score</th>\n",
       "      <th>missing_fuel_score</th>\n",
       "      <th>new_index</th>\n",
       "      <th>old_index</th>\n",
       "    </tr>\n",
       "  </thead>\n",
       "  <tbody>\n",
       "    <tr>\n",
       "      <th>237</th>\n",
       "      <td>0.023630</td>\n",
       "      <td>1.692251</td>\n",
       "      <td>100.0</td>\n",
       "      <td>25.0</td>\n",
       "      <td>29.0</td>\n",
       "      <td>48.0</td>\n",
       "      <td>0.0</td>\n",
       "      <td>1.0</td>\n",
       "      <td>237.0</td>\n",
       "    </tr>\n",
       "    <tr>\n",
       "      <th>183</th>\n",
       "      <td>0.030797</td>\n",
       "      <td>4.748946</td>\n",
       "      <td>100.0</td>\n",
       "      <td>25.0</td>\n",
       "      <td>29.0</td>\n",
       "      <td>91.0</td>\n",
       "      <td>0.0</td>\n",
       "      <td>1.0</td>\n",
       "      <td>183.0</td>\n",
       "    </tr>\n",
       "    <tr>\n",
       "      <th>243</th>\n",
       "      <td>0.037009</td>\n",
       "      <td>101.977340</td>\n",
       "      <td>100.0</td>\n",
       "      <td>31.0</td>\n",
       "      <td>27.0</td>\n",
       "      <td>NaN</td>\n",
       "      <td>0.0</td>\n",
       "      <td>1.0</td>\n",
       "      <td>243.0</td>\n",
       "    </tr>\n",
       "    <tr>\n",
       "      <th>208</th>\n",
       "      <td>0.044641</td>\n",
       "      <td>22.716897</td>\n",
       "      <td>100.0</td>\n",
       "      <td>28.0</td>\n",
       "      <td>20.0</td>\n",
       "      <td>82.0</td>\n",
       "      <td>0.0</td>\n",
       "      <td>1.0</td>\n",
       "      <td>208.0</td>\n",
       "    </tr>\n",
       "    <tr>\n",
       "      <th>76</th>\n",
       "      <td>0.044641</td>\n",
       "      <td>1.161026</td>\n",
       "      <td>100.0</td>\n",
       "      <td>36.0</td>\n",
       "      <td>78.0</td>\n",
       "      <td>17.0</td>\n",
       "      <td>0.0</td>\n",
       "      <td>1.0</td>\n",
       "      <td>76.0</td>\n",
       "    </tr>\n",
       "  </tbody>\n",
       "</table>\n",
       "</div>"
      ],
      "text/plain": [
       "     capacity_closeness_score  distance_score  fuel_similarity_score  \\\n",
       "237                  0.023630        1.692251                  100.0   \n",
       "183                  0.030797        4.748946                  100.0   \n",
       "243                  0.037009      101.977340                  100.0   \n",
       "208                  0.044641       22.716897                  100.0   \n",
       "76                   0.044641        1.161026                  100.0   \n",
       "\n",
       "     name_similarity_score  owner_similarity_score  commissioning_year_score  \\\n",
       "237                   25.0                    29.0                      48.0   \n",
       "183                   25.0                    29.0                      91.0   \n",
       "243                   31.0                    27.0                       NaN   \n",
       "208                   28.0                    20.0                      82.0   \n",
       "76                    36.0                    78.0                      17.0   \n",
       "\n",
       "     missing_fuel_score  new_index  old_index  \n",
       "237                 0.0        1.0      237.0  \n",
       "183                 0.0        1.0      183.0  \n",
       "243                 0.0        1.0      243.0  \n",
       "208                 0.0        1.0      208.0  \n",
       "76                  0.0        1.0       76.0  "
      ]
     },
     "execution_count": 30,
     "metadata": {},
     "output_type": "execute_result"
    }
   ],
   "source": [
    "#Sort out the matches with closest capacity\n",
    "result_sorting('capacity')"
   ]
  },
  {
   "cell_type": "code",
   "execution_count": 31,
   "metadata": {
    "scrolled": false
   },
   "outputs": [
    {
     "name": "stdout",
     "output_type": "stream",
     "text": [
      "NewData:\n",
      "\n",
      "name_en                     Zakamskaya CHP Plant-5\n",
      "fuel_all_en                                    ;;;\n",
      "capacity_mw                                     69\n",
      "latitude                                   58.0772\n",
      "longitude                                  55.7706\n",
      "owner_en              Perm Branch of PJSC \"T Plus\"\n",
      "commissioning_year                            1936\n",
      "Name: 304, dtype: object\n",
      "\n",
      "DataBase:\n",
      "\n",
      "Name                    Zakamskaya\n",
      "fuel_all              Natural Gas;\n",
      "Capacity (MW)                   69\n",
      "Latitude                       NaN\n",
      "Longitude                      NaN\n",
      "Owner                      t+group\n",
      "Commissioning Date            1986\n",
      "Name: 57, dtype: object\n"
     ]
    }
   ],
   "source": [
    "# Print out and check the pairs that you feel most likely to be a match\n",
    "manual_check(304,57)"
   ]
  },
  {
   "cell_type": "code",
   "execution_count": 4396,
   "metadata": {
    "collapsed": true
   },
   "outputs": [],
   "source": [
    "# Store the result if there is a match\n",
    "matching_index_df = update_matching_index(matching_index_df,300,True,148)"
   ]
  },
  {
   "cell_type": "code",
   "execution_count": 4372,
   "metadata": {
    "collapsed": true
   },
   "outputs": [],
   "source": [
    "# Store the result if there is not matches\n",
    "matching_index_df = update_matching_index(matching_index_df,298,False)"
   ]
  },
  {
   "cell_type": "code",
   "execution_count": 15,
   "metadata": {
    "collapsed": true
   },
   "outputs": [],
   "source": [
    "# Save the matching table\n",
    "matching_index_df.to_csv('matching_index_df_v2.csv')"
   ]
  },
  {
   "cell_type": "markdown",
   "metadata": {
    "collapsed": true
   },
   "source": [
    "### Derive Training Data from Matching Table"
   ]
  },
  {
   "cell_type": "code",
   "execution_count": 321,
   "metadata": {
    "collapsed": true
   },
   "outputs": [],
   "source": [
    "matching_index_df = pd.read_csv('matching_index_df_v2.csv',index_col= 0)"
   ]
  },
  {
   "cell_type": "code",
   "execution_count": 322,
   "metadata": {},
   "outputs": [
    {
     "name": "stdout",
     "output_type": "stream",
     "text": [
      "0 done!\n",
      "10 done!\n",
      "20 done!\n",
      "30 done!\n",
      "40 done!\n",
      "50 done!\n",
      "60 done!\n",
      "70 done!\n",
      "80 done!\n",
      "90 done!\n",
      "100 done!\n",
      "110 done!\n",
      "120 done!\n",
      "130 done!\n",
      "140 done!\n",
      "150 done!\n",
      "160 done!\n",
      "170 done!\n",
      "180 done!\n",
      "190 done!\n",
      "210 done!\n",
      "230 done!\n",
      "240 done!\n",
      "250 done!\n",
      "260 done!\n",
      "290 done!\n",
      "300 done!\n"
     ]
    }
   ],
   "source": [
    "all_data = pd.DataFrame(columns = ['capacity_closeness_score',\n",
    "                                   'distance_score',\n",
    "                                   'fuel_similarity_score',\n",
    "                                   'name_similarity_score',\n",
    "                                   'commissioning_year_score',\n",
    "                                   'owner_similarity_score',\n",
    "                                   'missing_fuel_score',\n",
    "                                   'new_index',\n",
    "                                   'old_index',\n",
    "                                   'match'])\n",
    "\n",
    "for i in matching_index_df['new_index']:\n",
    "    temp_data = scoring_for_single_example(i)\n",
    "    top_distance = temp_data.sort_values(by = 'distance_score',ascending = True).head(3)\n",
    "    top_name = temp_data.sort_values(by = 'name_similarity_score',ascending = False).head(3)\n",
    "    top_capacity = temp_data.sort_values(by = 'capacity_closeness_score',ascending = True).head(3)\n",
    "    top_commissioning_year = temp_data.sort_values(by = 'commissioning_year_score',ascending = True).head(3)\n",
    "    #top_fuel_type = temp_data.sort_values(by = 'fuel_similarity_score',ascending = False).head(2)\n",
    "    #top_owner = temp_data.sort_values(by = 'owner_similarity_score',ascending = False).head(2)\n",
    "    all_data = pd.concat([all_data,top_distance,top_name,top_capacity,top_commissioning_year],axis = 0)\n",
    "    if i % 10 == 0:\n",
    "        print(i,'done!')"
   ]
  },
  {
   "cell_type": "code",
   "execution_count": 324,
   "metadata": {
    "collapsed": true
   },
   "outputs": [],
   "source": [
    "all_data.loc[:,'match'] = 0"
   ]
  },
  {
   "cell_type": "code",
   "execution_count": 325,
   "metadata": {
    "collapsed": true
   },
   "outputs": [],
   "source": [
    "all_data = pd.merge(all_data,matching_index_df,how = 'left',on = ['new_index','old_index'])"
   ]
  },
  {
   "cell_type": "code",
   "execution_count": 327,
   "metadata": {
    "collapsed": true
   },
   "outputs": [],
   "source": [
    "all_data.loc[all_data['found_match']==True,'match'] = 1"
   ]
  },
  {
   "cell_type": "code",
   "execution_count": 332,
   "metadata": {
    "collapsed": true
   },
   "outputs": [],
   "source": [
    "all_data = all_data.drop(['found_match'],axis = 1)"
   ]
  },
  {
   "cell_type": "code",
   "execution_count": 333,
   "metadata": {
    "collapsed": true
   },
   "outputs": [],
   "source": [
    "all_data['na_capacity_score'] = 0 \n",
    "all_data.loc[all_data['capacity_closeness_score'].isnull(),'na_capacity_score'] = 1\n",
    "all_data['na_distance_score'] = 0 \n",
    "all_data.loc[all_data['distance_score'].isnull(),'na_distance_score'] = 1\n",
    "all_data['na_commissioning_score'] = 0 \n",
    "all_data.loc[all_data['commissioning_year_score'].isnull(),'na_commissioning_score'] = 1"
   ]
  },
  {
   "cell_type": "code",
   "execution_count": 334,
   "metadata": {
    "collapsed": true
   },
   "outputs": [],
   "source": [
    "all_data = all_data.drop_duplicates()"
   ]
  },
  {
   "cell_type": "code",
   "execution_count": 336,
   "metadata": {
    "collapsed": true
   },
   "outputs": [],
   "source": [
    "# Save the training set\n",
    "all_data.to_csv('all_data_262(matching_top3_10feature).csv')"
   ]
  },
  {
   "cell_type": "code",
   "execution_count": null,
   "metadata": {
    "collapsed": true
   },
   "outputs": [],
   "source": []
  },
  {
   "cell_type": "markdown",
   "metadata": {},
   "source": [
    "### Train Random Forest Model"
   ]
  },
  {
   "cell_type": "code",
   "execution_count": 38,
   "metadata": {},
   "outputs": [
    {
     "name": "stderr",
     "output_type": "stream",
     "text": [
      "C:\\Anaconda\\lib\\site-packages\\sklearn\\cross_validation.py:41: DeprecationWarning: This module was deprecated in version 0.18 in favor of the model_selection module into which all the refactored classes and functions are moved. Also note that the interface of the new CV iterators are different from that of this module. This module will be removed in 0.20.\n",
      "  \"This module will be removed in 0.20.\", DeprecationWarning)\n"
     ]
    }
   ],
   "source": [
    "from sklearn.ensemble import RandomForestClassifier\n",
    "from sklearn.model_selection import train_test_split, cross_val_score, GridSearchCV\n",
    "from sklearn.cross_validation import StratifiedKFold\n",
    "from sklearn.preprocessing import MinMaxScaler,StandardScaler\n",
    "from sklearn.metrics import confusion_matrix\n",
    "from itertools import combinations"
   ]
  },
  {
   "cell_type": "code",
   "execution_count": 337,
   "metadata": {
    "collapsed": true
   },
   "outputs": [],
   "source": [
    "origin_data = pd.read_csv('all_data_262(matching_top3_10feature).csv',index_col=0)"
   ]
  },
  {
   "cell_type": "code",
   "execution_count": null,
   "metadata": {
    "collapsed": true
   },
   "outputs": [],
   "source": []
  },
  {
   "cell_type": "code",
   "execution_count": 341,
   "metadata": {
    "collapsed": true
   },
   "outputs": [],
   "source": [
    "all_data = origin_data.drop(['new_index','old_index'],axis = 1)\n",
    "all_data.loc[all_data['missing_fuel_score']==1,'fuel_similarity_score'] = 50\n",
    "all_data.loc[:,'distance_score'] = all_data['distance_score'].fillna(all_data['distance_score'].mean())\n",
    "all_data.loc[:,'capacity_closeness_score'] = all_data['capacity_closeness_score'].fillna(all_data['capacity_closeness_score'].mean())\n",
    "all_data.loc[:,'commissioning_year_score'] = all_data['commissioning_year_score'].fillna(all_data['commissioning_year_score'].mean())\n",
    "#all_data.loc[:,'fuel_similarity_score'] = 100-all_data['fuel_similarity_score']\n",
    "#all_data.loc[:,'name_similarity_score'] = 100-all_data['name_similarity_score']\n",
    "#all_data.loc[all_data['capacity_closeness_score']==np.inf,'capacity_closeness_score'] = 10000"
   ]
  },
  {
   "cell_type": "code",
   "execution_count": 344,
   "metadata": {
    "collapsed": true
   },
   "outputs": [],
   "source": [
    "y_data = all_data['match']\n",
    "X_data = all_data.drop(['match'],axis = 1)"
   ]
  },
  {
   "cell_type": "code",
   "execution_count": null,
   "metadata": {
    "collapsed": true
   },
   "outputs": [],
   "source": []
  },
  {
   "cell_type": "code",
   "execution_count": 396,
   "metadata": {
    "collapsed": true
   },
   "outputs": [],
   "source": [
    "# Cross Validation Function\n",
    "def cv_stratified_fit_and_score(model,cv):\n",
    "    skf = StratifiedKFold(y_data,n_folds=cv,random_state=0) \n",
    "    count = 0\n",
    "    cv_scores_val = []\n",
    "    cv_scores_train = []\n",
    "    wrong_indexes = None\n",
    "    wrong_indexes_acc = []\n",
    "    wrong_cases = {}\n",
    "    \n",
    "    for train_index,val_index in skf:\n",
    "        count+=1\n",
    "        X_train,X_valid = X_data.iloc[train_index],X_data.iloc[val_index]\n",
    "        y_train,y_valid = y_data.iloc[train_index],y_data.iloc[val_index]\n",
    "        \n",
    "#         Scaler = MinMaxScaler(feature_range=(0,100))\n",
    "#         X_train = Scaler.fit_transform(X_train)\n",
    "#         X_valid = Scaler.transform(X_valid)\n",
    "        \n",
    "        model.fit(X_train,y_train)\n",
    "        #y_pred = model.predict_proba(X_valid)\n",
    "        cv_scores_val.append(model.score(X_valid,y_valid))\n",
    "        cv_scores_train.append(model.score(X_train,y_train))\n",
    "        \n",
    "        wrong_indexes = list(y_valid[model.predict(X_valid)!=y_valid].index)\n",
    "        wrong_indexes_acc += wrong_indexes\n",
    "        \n",
    "#         if len(wrong_indexes)!=0:\n",
    "#             wrong_pro = model.predict_proba(X_valid.loc[wrong_indexes])\n",
    "#             for i in range(len(wrong_pro)):\n",
    "#                 wrong_cases[wrong_indexes[i]] = wrong_pro[i]\n",
    "                \n",
    "        print('fold {}, done.'.format(count))\n",
    "    return cv_scores_val,cv_scores_train,wrong_indexes_acc,wrong_cases"
   ]
  },
  {
   "cell_type": "code",
   "execution_count": 474,
   "metadata": {
    "collapsed": true
   },
   "outputs": [],
   "source": [
    "# The parameters are tuned here\n",
    "rf = RandomForestClassifier(n_estimators=200,random_state=0,max_features=3)"
   ]
  },
  {
   "cell_type": "code",
   "execution_count": 473,
   "metadata": {},
   "outputs": [
    {
     "name": "stdout",
     "output_type": "stream",
     "text": [
      "fold 1, done.\n",
      "fold 2, done.\n",
      "fold 3, done.\n",
      "fold 4, done.\n",
      "fold 5, done.\n",
      "Validation Accuracy: 0.9892958820538892 \n",
      "Training Accuracy: 0.9996435731258423\n"
     ]
    }
   ],
   "source": [
    "results = cv_stratified_fit_and_score(rf,5)\n",
    "validation_mean = np.mean(results[0])\n",
    "train_mean = np.mean(results[1])\n",
    "print('Validation Accuracy: {}'.format(validation_mean),'\\nTraining Accuracy: {}'.format(train_mean))"
   ]
  },
  {
   "cell_type": "code",
   "execution_count": 224,
   "metadata": {
    "collapsed": true
   },
   "outputs": [],
   "source": [
    "rf_model = rf.fit(X_data,y_data)"
   ]
  },
  {
   "cell_type": "code",
   "execution_count": 476,
   "metadata": {
    "collapsed": true
   },
   "outputs": [],
   "source": [
    "# Save the model for future prediction\n",
    "filename = 'rf_model_v1.sav'\n",
    "pickle.dump(rf_model, open(filename, 'wb'))"
   ]
  },
  {
   "cell_type": "markdown",
   "metadata": {
    "collapsed": true
   },
   "source": [
    "### Predict Matches for Unseen Data"
   ]
  },
  {
   "cell_type": "code",
   "execution_count": 482,
   "metadata": {
    "collapsed": true
   },
   "outputs": [],
   "source": [
    "filename = 'rf_model_v1.sav'"
   ]
  },
  {
   "cell_type": "code",
   "execution_count": 483,
   "metadata": {
    "collapsed": true
   },
   "outputs": [],
   "source": [
    "# Load the model saved previously\n",
    "rf_model = pickle.load(open(filename, 'rb'))"
   ]
  },
  {
   "cell_type": "code",
   "execution_count": 484,
   "metadata": {
    "collapsed": true
   },
   "outputs": [],
   "source": [
    "test_data = NewData.loc[301:,:]"
   ]
  },
  {
   "cell_type": "code",
   "execution_count": 672,
   "metadata": {
    "collapsed": true
   },
   "outputs": [],
   "source": [
    "def predict_on_single_test(model,new_index):\n",
    "    all_data = pd.DataFrame(columns = ['capacity_closeness_score',\n",
    "                                       'distance_score',\n",
    "                                       'fuel_similarity_score',\n",
    "                                       'name_similarity_score',\n",
    "                                       'commissioning_year_score',\n",
    "                                       'owner_similarity_score',\n",
    "                                       'missing_fuel_score',\n",
    "                                       'new_index',\n",
    "                                       'old_index',\n",
    "                                       'match'])\n",
    "    temp_data = scoring_for_single_example(new_index)\n",
    "    top_distance = temp_data.sort_values(by = 'distance_score',ascending = True).head(3)\n",
    "    top_name = temp_data.sort_values(by = 'name_similarity_score',ascending = False).head(3)\n",
    "    top_capacity = temp_data.sort_values(by = 'capacity_closeness_score',ascending = True).head(3)\n",
    "    top_commissioning_year = temp_data.sort_values(by = 'commissioning_year_score',ascending = True).head(3)\n",
    "    all_data = pd.concat([all_data,top_distance,top_name,top_capacity,top_commissioning_year],axis = 0)\n",
    "    all_data = all_data.drop(['new_index','old_index'],axis = 1)\n",
    "    all_data['na_capacity_score'] = 0 \n",
    "    all_data.loc[all_data['capacity_closeness_score'].isnull(),'na_capacity_score'] = 1\n",
    "    all_data['na_distance_score'] = 0 \n",
    "    all_data.loc[all_data['distance_score'].isnull(),'na_distance_score'] = 1\n",
    "    all_data['na_commissioning_score'] = 0 \n",
    "    all_data.loc[all_data['commissioning_year_score'].isnull(),'na_commissioning_score'] = 1\n",
    "    all_data.loc[all_data['missing_fuel_score']==1,'fuel_similarity_score'] = 50\n",
    "    all_data.loc[:,'distance_score'] = all_data['distance_score'].fillna(origin_data['distance_score'].mean())\n",
    "    all_data.loc[:,'capacity_closeness_score'] = all_data['capacity_closeness_score'].fillna(origin_data['capacity_closeness_score'].mean())\n",
    "    all_data.loc[:,'commissioning_year_score'] = all_data['commissioning_year_score'].fillna(origin_data['commissioning_year_score'].mean())\n",
    "    all_data.drop_duplicates(inplace=True)\n",
    "    X_test = all_data.drop(['match'],axis = 1)\n",
    "    prediction = model.predict(X_test)\n",
    "    prediction_proba = model.predict_proba(X_test)\n",
    "    return prediction,prediction_proba,all_data"
   ]
  },
  {
   "cell_type": "code",
   "execution_count": 673,
   "metadata": {
    "collapsed": true
   },
   "outputs": [],
   "source": [
    "test_index = list(test_data.index)"
   ]
  },
  {
   "cell_type": "code",
   "execution_count": 1261,
   "metadata": {},
   "outputs": [
    {
     "name": "stdout",
     "output_type": "stream",
     "text": [
      "Predicting on index 256\n",
      "Predicting on index 403\n",
      "The model is not pretty sure for index 403, need manually check.\n"
     ]
    }
   ],
   "source": [
    "while (len(test_index)!=0):\n",
    "    \n",
    "    i = test_index[0]\n",
    "    print('Predicting on index {}'.format(i))\n",
    "    \n",
    "    try:\n",
    "        results = predict_on_single_test(rf_model,i)\n",
    "        proba_0,proba_1 = results[1][:,0],results[1][:,1]\n",
    "        if np.all(proba_0 > 0.9):\n",
    "            matching_index_df = update_matching_index(matching_index_df,i,False)\n",
    "        elif np.any(proba_1 > 0.8):\n",
    "            if (proba_1 > 0.8).sum() > 1:\n",
    "                print('Found multiple matches for index {}, need manually check.'.format(i))\n",
    "                test_index.pop(0)\n",
    "                break\n",
    "            else:\n",
    "                old_index = results[2].index[np.argmax(proba_1)]\n",
    "                matching_index_df = update_matching_index(matching_index_df,i,True,old_index)\n",
    "        else:\n",
    "            print('The model is not pretty sure for index {}, need manually check.'.format(i))\n",
    "            test_index.pop(0)\n",
    "            break\n",
    "            \n",
    "    except:\n",
    "        print('{} is not in the list.'.format(i))\n",
    "        \n",
    "    test_index.pop(0)"
   ]
  },
  {
   "cell_type": "code",
   "execution_count": 1315,
   "metadata": {},
   "outputs": [
    {
     "name": "stdout",
     "output_type": "stream",
     "text": [
      "NewData:\n",
      "\n",
      "name_en                           Leningrad NPP-2\n",
      "fuel_all_en                                   ;;;\n",
      "capacity_mw                                  4340\n",
      "latitude                                  59.8304\n",
      "longitude                                 29.0567\n",
      "owner_en              JSC \"Concern Rosenergoatom\"\n",
      "commissioning_year                            NaN\n",
      "Name: 476, dtype: object\n",
      "\n",
      "DataBase:\n",
      "\n",
      "Name                  Leningrad NPP\n",
      "fuel_all                   Nuclear;\n",
      "Capacity (MW)                  4000\n",
      "Latitude                    59.8401\n",
      "Longitude                   29.0331\n",
      "Owner                       Rosatom\n",
      "Commissioning Date             1973\n",
      "Name: 184, dtype: object\n"
     ]
    }
   ],
   "source": [
    "manual_check(476,184)"
   ]
  },
  {
   "cell_type": "code",
   "execution_count": 1265,
   "metadata": {
    "collapsed": true
   },
   "outputs": [],
   "source": [
    "\n",
    "matching_index_df = update_matching_index(matching_index_df,403,True,42)"
   ]
  },
  {
   "cell_type": "code",
   "execution_count": 1257,
   "metadata": {
    "collapsed": true
   },
   "outputs": [],
   "source": [
    "matching_index_df = update_matching_index(matching_index_df,935,False)"
   ]
  },
  {
   "cell_type": "code",
   "execution_count": null,
   "metadata": {},
   "outputs": [],
   "source": [
    "matching_index_df.to_csv('prediction_matching_table.csv')"
   ]
  },
  {
   "cell_type": "markdown",
   "metadata": {
    "collapsed": true
   },
   "source": [
    "### Labeling flags"
   ]
  },
  {
   "cell_type": "code",
   "execution_count": 67,
   "metadata": {},
   "outputs": [],
   "source": [
    "matching_table = pd.read_csv('prediction_matching_table.csv',index_col=0)"
   ]
  },
  {
   "cell_type": "code",
   "execution_count": null,
   "metadata": {},
   "outputs": [],
   "source": [
    "matched = matching_table[matching_table['found_match']==1]"
   ]
  },
  {
   "cell_type": "code",
   "execution_count": null,
   "metadata": {},
   "outputs": [],
   "source": [
    "# new_data_features = ['name_en','latitude','longitude','owner_en','commissioning_year','fuel_all_en','capacity_mw']\n",
    "# data_base_feature = ['Name','Latitude','Longitude','Owner','Commissioning Date','fuel_all','Capacity (MW)']\n",
    "# columns = ['database_index','matched_index','database_name','matched_name','name_similarity_score',\n",
    "#           'database_latitude','matched_latitude','database_longitude','matched_longitude','distance_score',\n",
    "#           'database_owner','matched_owner','owner_similarity_score',\n",
    "#           'database_commissioning_year','matched_commissioning_year','commissioning_year_score',\n",
    "#           'database_fuel','matched_fuel','fuel_similarity_score',\n",
    "#           'database_capacity','matched_capacity','capacity_closeness_score','missing_fuel_score']"
   ]
  },
  {
   "cell_type": "code",
   "execution_count": 109,
   "metadata": {},
   "outputs": [],
   "source": [
    "columns = ['name_en','Name','name_similarity_score','latitude','Latitude','longitude','Longitude','distance_score','owner_en','Owner','owner_similarity_score','commissioning_year','Commissioning Date','commissioning_year_score','fuel_all_en','fuel_all','fuel_similarity_score','capacity_mw','Capacity (MW)','capacity_closeness_score']"
   ]
  },
  {
   "cell_type": "code",
   "execution_count": 110,
   "metadata": {},
   "outputs": [],
   "source": [
    "flaged_matches = pd.DataFrame(columns = columns)"
   ]
  },
  {
   "cell_type": "code",
   "execution_count": 144,
   "metadata": {},
   "outputs": [],
   "source": [
    "for i in list(matched.index):\n",
    "    new_index = matched.loc[i,'new_index']\n",
    "    old_index = matched.loc[i,'old_index']\n",
    "    x = NewData.loc[new_index,new_data_features].to_dict()\n",
    "    y = PE_rus.loc[old_index,data_base_feature].to_dict()\n",
    "    x.update(y)\n",
    "    x.update(scoring_for_match(new_index,old_index))\n",
    "    flaged_matches = flaged_matches.append(x,ignore_index=True)"
   ]
  },
  {
   "cell_type": "code",
   "execution_count": 151,
   "metadata": {},
   "outputs": [],
   "source": [
    "flaged_matches.rename(columns={'name_en':'matched_name','Name':'database_name','latitude':'matched_latitude','Latitude':'database_latitude','longitude':'matched_longitude','Longitude':'database_longitude','owner_en':'matched_owner','Owner':'database_owner','commissioning_year':'matched_commissioning_year','Commissioning Date':'database_commissioning_year','fuel_all_en':'matched_fuel_type','fuel_all':'database_fuel_type','capacity_mw':'matched_capacity','Capacity (MW)':'database_capacity'}, inplace=True)"
   ]
  },
  {
   "cell_type": "code",
   "execution_count": 154,
   "metadata": {},
   "outputs": [],
   "source": [
    "flaged_matches.to_csv('flagged_matching_table.csv')"
   ]
  }
 ],
 "metadata": {
  "anaconda-cloud": {},
  "kernelspec": {
   "display_name": "Python 3",
   "language": "python",
   "name": "python3"
  },
  "language_info": {
   "codemirror_mode": {
    "name": "ipython",
    "version": 3
   },
   "file_extension": ".py",
   "mimetype": "text/x-python",
   "name": "python",
   "nbconvert_exporter": "python",
   "pygments_lexer": "ipython3",
   "version": "3.6.5"
  }
 },
 "nbformat": 4,
 "nbformat_minor": 1
}
